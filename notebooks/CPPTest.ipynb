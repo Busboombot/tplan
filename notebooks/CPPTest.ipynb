{
 "cells": [
  {
   "cell_type": "code",
   "execution_count": 21,
   "id": "c48e6576-e6d7-4a4e-8a6d-79c51cadd644",
   "metadata": {},
   "outputs": [
    {
     "name": "stdout",
     "output_type": "stream",
     "text": [
      "\u001b[1m\u001b[36mCMakeFiles\u001b[m\u001b[m                         cmake_install.cmake\n",
      "CTestTestfile.cmake                \u001b[31mtest_planner\u001b[m\u001b[m\n",
      "DartConfiguration.tcl              test_planner_include-b12d07c.cmake\n",
      "Makefile                           test_planner_tests-b12d07c.cmake\n",
      "\u001b[1m\u001b[36mTesting\u001b[m\u001b[m\n"
     ]
    }
   ],
   "source": [
    "%reload_ext autoreload\n",
    "%autoreload 2\n",
    "%run startup.py\n",
    "from trajectory import Joint\n",
    "from trajectory.test.cpptest import CPPPlanner\n",
    "from pathlib import Path\n",
    "\n",
    "cli_dir = Path('..')/'cmake'/'src'/'cli'\n",
    "test_dir = Path('..')/'cmake'/'src'/'test'\n",
    "test_files_dir = Path('..')/'test_data'\n",
    "\n",
    "!ls {test_dir}"
   ]
  },
  {
   "cell_type": "code",
   "execution_count": 22,
   "id": "ce4dba71-cc56-4dbb-bd10-c3118c88e688",
   "metadata": {},
   "outputs": [
    {
     "name": "stdout",
     "output_type": "stream",
     "text": [
      "[ 56%] Built target libplanner\n",
      "Consolidate compiler generated dependencies of target test_planner\n",
      "[100%] Built target test_planner\n"
     ]
    }
   ],
   "source": [
    "cp = CPPPlanner(test_dir)\n",
    "\n",
    "cp.make()"
   ]
  },
  {
   "cell_type": "code",
   "execution_count": 24,
   "id": "1f4505a9-6ff4-424d-93db-a7aab359d606",
   "metadata": {},
   "outputs": [],
   "source": [
    "# Write a test file for the stepper test. \n",
    "# SHould not generally re-run this, because you'l have to change the checksums in the associated test. \n",
    "def write_test_file():\n",
    "    from pathlib import Path\n",
    "    from random import random, randint\n",
    "\n",
    "    signs = [1,1,1]\n",
    "\n",
    "    with open(test_files_dir/'stepper_file_test.txt', 'w') as f:\n",
    "        for i in range(100):\n",
    "            for axis in (0,1):\n",
    "                signs[axis] = -signs[axis] if random() < .1 else signs[axis] # change direction 10% of the time\n",
    "            x1 = signs[0]*int(random() < .90)*randint(0,10000)\n",
    "            x2 = signs[1]*int(random() < .90)*randint(0,10000)\n",
    "            x3 = signs[2]*int(random() < .90)*randint(0,10000)\n",
    "\n",
    "            f.write(f\"{x1} {x2} {x3}\\n\")\n",
    "\n",
    "\n"
   ]
  },
  {
   "cell_type": "code",
   "execution_count": 13,
   "id": "7c2c6eaa-6310-4d94-90ee-611324224c32",
   "metadata": {},
   "outputs": [
    {
     "ename": "FileNotFoundError",
     "evalue": "[Errno 2] No such file or directory: '../src/cmake-cli-test/test'",
     "output_type": "error",
     "traceback": [
      "\u001b[0;31m---------------------------------------------------------------------------\u001b[0m",
      "\u001b[0;31mFileNotFoundError\u001b[0m                         Traceback (most recent call last)",
      "Input \u001b[0;32mIn [13]\u001b[0m, in \u001b[0;36m<cell line: 29>\u001b[0;34m()\u001b[0m\n\u001b[1;32m     27\u001b[0m \u001b[38;5;66;03m# Run the test_planner program to get the c++ planner blocks\u001b[39;00m\n\u001b[1;32m     28\u001b[0m tp \u001b[38;5;241m=\u001b[39m TestPlanner(test_dir)\n\u001b[0;32m---> 29\u001b[0m \u001b[43mtp\u001b[49m\u001b[38;5;241;43m.\u001b[39;49m\u001b[43mmake\u001b[49m\u001b[43m(\u001b[49m\u001b[43m)\u001b[49m\n\u001b[1;32m     30\u001b[0m z \u001b[38;5;241m=\u001b[39m tp\u001b[38;5;241m.\u001b[39mrun()\n\u001b[1;32m     31\u001b[0m cblocks \u001b[38;5;241m=\u001b[39m z[\u001b[38;5;124m'\u001b[39m\u001b[38;5;124mlow level block\u001b[39m\u001b[38;5;124m'\u001b[39m][\u001b[38;5;124m'\u001b[39m\u001b[38;5;124moutput\u001b[39m\u001b[38;5;124m'\u001b[39m]\n",
      "File \u001b[0;32m~/Documents/proj/trajectory/trajectory/test/cpptest.py:66\u001b[0m, in \u001b[0;36mTestPlanner.make\u001b[0;34m(self)\u001b[0m\n\u001b[1;32m     64\u001b[0m \u001b[38;5;28;01mtry\u001b[39;00m:\n\u001b[1;32m     65\u001b[0m     pwd \u001b[38;5;241m=\u001b[39m os\u001b[38;5;241m.\u001b[39mgetcwd()\n\u001b[0;32m---> 66\u001b[0m     \u001b[43mos\u001b[49m\u001b[38;5;241;43m.\u001b[39;49m\u001b[43mchdir\u001b[49m\u001b[43m(\u001b[49m\u001b[38;5;28;43mself\u001b[39;49m\u001b[38;5;241;43m.\u001b[39;49m\u001b[43mtest_dir\u001b[49m\u001b[43m)\u001b[49m\n\u001b[1;32m     67\u001b[0m     os\u001b[38;5;241m.\u001b[39msystem(\u001b[38;5;124m'\u001b[39m\u001b[38;5;124mmake\u001b[39m\u001b[38;5;124m'\u001b[39m)\n\u001b[1;32m     69\u001b[0m \u001b[38;5;28;01mfinally\u001b[39;00m:\n",
      "\u001b[0;31mFileNotFoundError\u001b[0m: [Errno 2] No such file or directory: '../src/cmake-cli-test/test'"
     ]
    }
   ],
   "source": [
    "##\n",
    "## Compare Python  blocks to CPP planner blocks\n",
    "###\n",
    "from trajectory.test.cpptest import * \n",
    "\n",
    "# Create the Python blocks\n",
    "j = Joint(5000, 50_000)\n",
    "s = Segment(0, j)\n",
    "\n",
    "blocks = [\n",
    "    Block(x=1000, v_0=0, v_1=0, joint=j, segment=s).plan(),       # A\n",
    "    Block(x=1000, v_0=2500, v_1=2500, joint=j, segment=s).plan(), # B\n",
    "    Block(x=1000, v_0=5000, v_1=5000, joint=j, segment=s).plan(), # C\n",
    "    Block(x=200, v_0=5000, v_1=5000, joint=j, segment=s).plan(),  # D\n",
    "    Block(x=1, v_0=5000, v_1=5000, joint=j, segment=s).plan(),    # E\n",
    "    Block(x=1000, v_0=5000, v_1=0, joint=j, segment=s).plan(),    # F\n",
    "    Block(x=1000, v_0=0, v_1=5000, joint=j, segment=s).plan(),    # G\n",
    "    Block(x=400, v_0=5000, v_1=0, joint=j, segment=s).plan(),     # H\n",
    "    Block(x=400, v_0=0, v_1=5000, joint=j, segment=s).plan(),     # I\n",
    "    Block(x=150, v_0=5000, v_1=0, joint=j, segment=s).plan(),     # J\n",
    "    Block(x=150, v_0=0, v_1=5000, joint=j, segment=s).plan()      # K\n",
    "]\n",
    "    \n",
    "blocks = dict([ (k,v) for k,v in zip(\"ABCDEFGHIJK\", blocks)])\n",
    "\n",
    "# Run the test_planner program to get the c++ planner blocks\n",
    "tp = TestPlanner(test_dir)\n",
    "tp.make()\n",
    "z = tp.run()\n",
    "cblocks = z['low level block']['output']\n",
    "\n",
    "n_diffs = 0\n",
    "for cb in cblocks:\n",
    "    b = blocks[cb['_tag']].asdict()\n",
    "    for k, v in cb.items():\n",
    "        diffs = compare_blocks(cb, b)\n",
    "        n_diffs += len(diffs)\n",
    "        if diffs:\n",
    "            print(cb['_tag'], diffs)\n",
    "                \n",
    "if n_diffs == 0:\n",
    "    print(\"No differences\")"
   ]
  },
  {
   "cell_type": "code",
   "execution_count": null,
   "id": "8566f84b-31ac-48e6-aac3-f930a9fc9da6",
   "metadata": {},
   "outputs": [],
   "source": [
    "\n",
    "#\n",
    "# Compare segments\n",
    "#\n",
    "tp = TestPlanner(test_dir)\n",
    "tp.make()\n",
    "s1 = tp.load_segment('basic_segment_1')\n",
    "\n",
    "s2 = Segment(  0, s1.joints, s1.move)\n",
    "s2.plan()\n",
    "\n",
    "diffs = compare_seg(s1, s2)\n",
    "assert len(diffs) == 0, diffs"
   ]
  },
  {
   "cell_type": "code",
   "execution_count": null,
   "id": "c01d6d9e-4d77-402e-9fec-5f1621fff453",
   "metadata": {},
   "outputs": [],
   "source": [
    "tp = TestPlanner(test_dir)\n",
    "tp.make()\n",
    "s1 = tp.load_segment('basic_segment_2')\n",
    "\n",
    "s2 = Segment(  0, s1.joints, s1.move)\n",
    "s2.plan()\n",
    "\n",
    "diffs = compare_seg(s1, s2)\n",
    "\n",
    "assert len(diffs) == 0, diffs"
   ]
  },
  {
   "cell_type": "code",
   "execution_count": null,
   "id": "d64c5378-31cf-4225-a6ea-ddb93d4604a3",
   "metadata": {},
   "outputs": [],
   "source": [
    "#\n",
    "# Compare the python planner to the CPP planner. \n",
    "#\n",
    "LARGE = 1000\n",
    "small = 1\n",
    "\n",
    "j = Joint(5000, 50_000)\n",
    "joints = [j,j]\n",
    "\n",
    "moves = ([LARGE,small],[small,LARGE])\n",
    "\n",
    "sl_p, sl_c = cp.compare_planner(joints, moves)\n",
    "sl_p, sl_c\n"
   ]
  },
  {
   "cell_type": "code",
   "execution_count": null,
   "id": "44a9f39d-6e2e-44d2-9282-2d7f024ad474",
   "metadata": {},
   "outputs": [],
   "source": [
    "\n",
    "moves = [\n",
    "    [864, -39, 0, 61],\n",
    "    [0, 0, 747, 594],\n",
    "    [864, -39, 0, 61]\n",
    "]\n",
    "\n",
    "sl_p, sl_c = cp.compare_planner([j,j,j,j], moves, report = True)\n",
    "sl_p.plot(), sl_c.plot()\n"
   ]
  },
  {
   "cell_type": "code",
   "execution_count": null,
   "id": "c00a0c95-6ffc-44a4-9d22-627d9b3289eb",
   "metadata": {},
   "outputs": [],
   "source": [
    "def make_circle(r=5000, n=100):\n",
    "    from math import sin, cos\n",
    "   \n",
    "    moves = []\n",
    "\n",
    "    r = r\n",
    "    lx  = 0\n",
    "    ly = r\n",
    "    for i in range(0,n+1):\n",
    "        a = 2*np.pi*(i/n)\n",
    "        x = sin(a)*r \n",
    "        y = cos(a)*r \n",
    "        \n",
    "        moves.append((round(x-lx),round(y-ly)))\n",
    "        \n",
    "        lx = x\n",
    "        ly = y\n",
    "            \n",
    "    return moves\n",
    "\n",
    "moves = make_circle(r=5000, n=100)\n",
    "\n",
    "sl_p, sl_c = cp.compare_planner([j,j], moves, report = False)\n",
    "sl_p.plot(), sl_c.plot()\n"
   ]
  },
  {
   "cell_type": "code",
   "execution_count": null,
   "id": "a39e7a47-4ab7-4a1b-8487-b23e69258e47",
   "metadata": {},
   "outputs": [],
   "source": [
    "%reload_ext autoreload\n",
    "%autoreload 2\n",
    "%run startup.py\n",
    "# Serious discontinuities. \n",
    "from trajectory import * \n",
    "from trajectory.test.cpptest import * \n",
    "\n",
    "j = Joint(5_000, 50_000)\n",
    "joints = [j]*2\n",
    "sl = SegmentList(joints)   \n",
    "sl.move([1000,500])\n",
    "sl.move([500,1000])\n",
    "sl.move([1000,500])\n",
    "sl.move([500,1000])\n",
    "\n",
    "ts = TestStepper('/Users/eric/Documents/proj/trajectory/src/cmake-cli-test/cli')\n",
    "ts.run_stepper(sl)\n",
    "\n",
    "\n"
   ]
  },
  {
   "cell_type": "code",
   "execution_count": null,
   "id": "dc6f9ea3-3d70-48f1-a942-0ef4e66e7b92",
   "metadata": {},
   "outputs": [],
   "source": [
    "%reload_ext autoreload\n",
    "%autoreload 2\n",
    "%run startup.py\n",
    "# Serious discontinuities. \n",
    "from trajectory import * \n",
    "from trajectory.test.cpptest import * \n",
    "\n",
    "j = Joint(5_000, 50_000)\n",
    "joints = [j]*2\n",
    "sl = SegmentList(joints)   \n",
    "sl.move([1000,500])\n",
    "sl.move([500,1000])\n",
    "sl.move([1000,500])\n",
    "sl.move([500,1000])\n",
    "\n",
    "ts = TestStepper('/Users/eric/Documents/proj/trajectory/src/cmake-cli-test/cli')\n",
    "ts.run_stepper(sl)\n",
    "\n"
   ]
  },
  {
   "cell_type": "code",
   "execution_count": null,
   "id": "5ae93161-ea91-425e-bdfb-58e0d5bed616",
   "metadata": {},
   "outputs": [],
   "source": [
    "%reload_ext autoreload\n",
    "%autoreload 2\n",
    "%run startup.py\n",
    "\n",
    "LARGE = 1000\n",
    "small = 500\n",
    "\n",
    "j = Joint(5000, 50_000)\n",
    "joints = [j,j]\n",
    "\n",
    "moves = ([LARGE,small],[small,LARGE], [LARGE,small])\n",
    "\n",
    "cp.make()\n",
    "l = cp.run_stepper(joints, moves)\n",
    "\n",
    "# cpp program runs on time period of 5us, so mult by 1/5us to get actual velocity\n",
    "p = 1/(5/1e6)\n",
    "\n",
    "df['v'] = df.x.rolling(500).mean() * p\n",
    "ax=df.plot('t','v', linewidth=4, figsize=(12,4))\n",
    "\n",
    "\n",
    "sl = SegmentList(joints)   \n",
    "[sl.move(m) for m in moves]\n",
    "sl.plot(ax=ax)"
   ]
  },
  {
   "cell_type": "code",
   "execution_count": null,
   "id": "cd60820d-c721-4462-94ab-97905e402e92",
   "metadata": {},
   "outputs": [],
   "source": []
  }
 ],
 "metadata": {
  "kernelspec": {
   "display_name": "Python 3 (ipykernel)",
   "language": "python",
   "name": "python3"
  },
  "language_info": {
   "codemirror_mode": {
    "name": "ipython",
    "version": 3
   },
   "file_extension": ".py",
   "mimetype": "text/x-python",
   "name": "python",
   "nbconvert_exporter": "python",
   "pygments_lexer": "ipython3",
   "version": "3.9.12"
  }
 },
 "nbformat": 4,
 "nbformat_minor": 5
}
